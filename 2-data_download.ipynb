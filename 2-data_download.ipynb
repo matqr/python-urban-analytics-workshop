{
 "cells": [
  {
   "cell_type": "markdown",
   "id": "c589b068-fa5d-43bc-9af6-c5aa495b6d60",
   "metadata": {},
   "source": [
    "# Global Streetscapes"
   ]
  },
  {
   "cell_type": "code",
   "execution_count": null,
   "id": "efdd91aa-41d6-4a4d-ac13-b5ee428ee765",
   "metadata": {},
   "outputs": [],
   "source": []
  },
  {
   "cell_type": "code",
   "execution_count": null,
   "id": "5848d51a-1dcd-408e-bd16-59c7492a7f63",
   "metadata": {},
   "outputs": [],
   "source": []
  },
  {
   "cell_type": "code",
   "execution_count": null,
   "id": "59cfe4a0-5c98-4f33-a654-28e317b633c2",
   "metadata": {},
   "outputs": [],
   "source": []
  },
  {
   "cell_type": "code",
   "execution_count": null,
   "id": "dcae5403-7449-4bf9-b311-7ac4a30309ae",
   "metadata": {},
   "outputs": [],
   "source": []
  }
 ],
 "metadata": {
  "kernelspec": {
   "display_name": "Python 3 (ipykernel)",
   "language": "python",
   "name": "python3"
  },
  "language_info": {
   "codemirror_mode": {
    "name": "ipython",
    "version": 3
   },
   "file_extension": ".py",
   "mimetype": "text/x-python",
   "name": "python",
   "nbconvert_exporter": "python",
   "pygments_lexer": "ipython3",
   "version": "3.10.14"
  },
  "widgets": {
   "application/vnd.jupyter.widget-state+json": {
    "state": {},
    "version_major": 2,
    "version_minor": 0
   }
  }
 },
 "nbformat": 4,
 "nbformat_minor": 5
}
